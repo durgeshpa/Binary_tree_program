{
  "nbformat": 4,
  "nbformat_minor": 0,
  "metadata": {
    "colab": {
      "provenance": [],
      "authorship_tag": "ABX9TyPFgIZtqYCiJ0m4zHXOJ60j",
      "include_colab_link": true
    },
    "kernelspec": {
      "name": "python3",
      "display_name": "Python 3"
    },
    "language_info": {
      "name": "python"
    }
  },
  "cells": [
    {
      "cell_type": "markdown",
      "metadata": {
        "id": "view-in-github",
        "colab_type": "text"
      },
      "source": [
        "<a href=\"https://colab.research.google.com/github/durgeshpa/Binary_tree_program/blob/master/Untitled1.ipynb\" target=\"_parent\"><img src=\"https://colab.research.google.com/assets/colab-badge.svg\" alt=\"Open In Colab\"/></a>"
      ]
    },
    {
      "cell_type": "code",
      "execution_count": 56,
      "metadata": {
        "id": "RyRT-MoFCr_D"
      },
      "outputs": [],
      "source": [
        "from google.colab import files"
      ]
    },
    {
      "cell_type": "code",
      "source": [
        "files.upload()"
      ],
      "metadata": {
        "colab": {
          "base_uri": "https://localhost:8080/",
          "height": 318
        },
        "id": "j78Q07E3C6SD",
        "outputId": "3d1e9944-e0c1-4414-ba0d-0d5e63e249c1"
      },
      "execution_count": 57,
      "outputs": [
        {
          "output_type": "display_data",
          "data": {
            "text/plain": [
              "<IPython.core.display.HTML object>"
            ],
            "text/html": [
              "\n",
              "     <input type=\"file\" id=\"files-286dbee5-a38b-4434-9115-232ce5704eae\" name=\"files[]\" multiple disabled\n",
              "        style=\"border:none\" />\n",
              "     <output id=\"result-286dbee5-a38b-4434-9115-232ce5704eae\">\n",
              "      Upload widget is only available when the cell has been executed in the\n",
              "      current browser session. Please rerun this cell to enable.\n",
              "      </output>\n",
              "      <script>// Copyright 2017 Google LLC\n",
              "//\n",
              "// Licensed under the Apache License, Version 2.0 (the \"License\");\n",
              "// you may not use this file except in compliance with the License.\n",
              "// You may obtain a copy of the License at\n",
              "//\n",
              "//      http://www.apache.org/licenses/LICENSE-2.0\n",
              "//\n",
              "// Unless required by applicable law or agreed to in writing, software\n",
              "// distributed under the License is distributed on an \"AS IS\" BASIS,\n",
              "// WITHOUT WARRANTIES OR CONDITIONS OF ANY KIND, either express or implied.\n",
              "// See the License for the specific language governing permissions and\n",
              "// limitations under the License.\n",
              "\n",
              "/**\n",
              " * @fileoverview Helpers for google.colab Python module.\n",
              " */\n",
              "(function(scope) {\n",
              "function span(text, styleAttributes = {}) {\n",
              "  const element = document.createElement('span');\n",
              "  element.textContent = text;\n",
              "  for (const key of Object.keys(styleAttributes)) {\n",
              "    element.style[key] = styleAttributes[key];\n",
              "  }\n",
              "  return element;\n",
              "}\n",
              "\n",
              "// Max number of bytes which will be uploaded at a time.\n",
              "const MAX_PAYLOAD_SIZE = 100 * 1024;\n",
              "\n",
              "function _uploadFiles(inputId, outputId) {\n",
              "  const steps = uploadFilesStep(inputId, outputId);\n",
              "  const outputElement = document.getElementById(outputId);\n",
              "  // Cache steps on the outputElement to make it available for the next call\n",
              "  // to uploadFilesContinue from Python.\n",
              "  outputElement.steps = steps;\n",
              "\n",
              "  return _uploadFilesContinue(outputId);\n",
              "}\n",
              "\n",
              "// This is roughly an async generator (not supported in the browser yet),\n",
              "// where there are multiple asynchronous steps and the Python side is going\n",
              "// to poll for completion of each step.\n",
              "// This uses a Promise to block the python side on completion of each step,\n",
              "// then passes the result of the previous step as the input to the next step.\n",
              "function _uploadFilesContinue(outputId) {\n",
              "  const outputElement = document.getElementById(outputId);\n",
              "  const steps = outputElement.steps;\n",
              "\n",
              "  const next = steps.next(outputElement.lastPromiseValue);\n",
              "  return Promise.resolve(next.value.promise).then((value) => {\n",
              "    // Cache the last promise value to make it available to the next\n",
              "    // step of the generator.\n",
              "    outputElement.lastPromiseValue = value;\n",
              "    return next.value.response;\n",
              "  });\n",
              "}\n",
              "\n",
              "/**\n",
              " * Generator function which is called between each async step of the upload\n",
              " * process.\n",
              " * @param {string} inputId Element ID of the input file picker element.\n",
              " * @param {string} outputId Element ID of the output display.\n",
              " * @return {!Iterable<!Object>} Iterable of next steps.\n",
              " */\n",
              "function* uploadFilesStep(inputId, outputId) {\n",
              "  const inputElement = document.getElementById(inputId);\n",
              "  inputElement.disabled = false;\n",
              "\n",
              "  const outputElement = document.getElementById(outputId);\n",
              "  outputElement.innerHTML = '';\n",
              "\n",
              "  const pickedPromise = new Promise((resolve) => {\n",
              "    inputElement.addEventListener('change', (e) => {\n",
              "      resolve(e.target.files);\n",
              "    });\n",
              "  });\n",
              "\n",
              "  const cancel = document.createElement('button');\n",
              "  inputElement.parentElement.appendChild(cancel);\n",
              "  cancel.textContent = 'Cancel upload';\n",
              "  const cancelPromise = new Promise((resolve) => {\n",
              "    cancel.onclick = () => {\n",
              "      resolve(null);\n",
              "    };\n",
              "  });\n",
              "\n",
              "  // Wait for the user to pick the files.\n",
              "  const files = yield {\n",
              "    promise: Promise.race([pickedPromise, cancelPromise]),\n",
              "    response: {\n",
              "      action: 'starting',\n",
              "    }\n",
              "  };\n",
              "\n",
              "  cancel.remove();\n",
              "\n",
              "  // Disable the input element since further picks are not allowed.\n",
              "  inputElement.disabled = true;\n",
              "\n",
              "  if (!files) {\n",
              "    return {\n",
              "      response: {\n",
              "        action: 'complete',\n",
              "      }\n",
              "    };\n",
              "  }\n",
              "\n",
              "  for (const file of files) {\n",
              "    const li = document.createElement('li');\n",
              "    li.append(span(file.name, {fontWeight: 'bold'}));\n",
              "    li.append(span(\n",
              "        `(${file.type || 'n/a'}) - ${file.size} bytes, ` +\n",
              "        `last modified: ${\n",
              "            file.lastModifiedDate ? file.lastModifiedDate.toLocaleDateString() :\n",
              "                                    'n/a'} - `));\n",
              "    const percent = span('0% done');\n",
              "    li.appendChild(percent);\n",
              "\n",
              "    outputElement.appendChild(li);\n",
              "\n",
              "    const fileDataPromise = new Promise((resolve) => {\n",
              "      const reader = new FileReader();\n",
              "      reader.onload = (e) => {\n",
              "        resolve(e.target.result);\n",
              "      };\n",
              "      reader.readAsArrayBuffer(file);\n",
              "    });\n",
              "    // Wait for the data to be ready.\n",
              "    let fileData = yield {\n",
              "      promise: fileDataPromise,\n",
              "      response: {\n",
              "        action: 'continue',\n",
              "      }\n",
              "    };\n",
              "\n",
              "    // Use a chunked sending to avoid message size limits. See b/62115660.\n",
              "    let position = 0;\n",
              "    do {\n",
              "      const length = Math.min(fileData.byteLength - position, MAX_PAYLOAD_SIZE);\n",
              "      const chunk = new Uint8Array(fileData, position, length);\n",
              "      position += length;\n",
              "\n",
              "      const base64 = btoa(String.fromCharCode.apply(null, chunk));\n",
              "      yield {\n",
              "        response: {\n",
              "          action: 'append',\n",
              "          file: file.name,\n",
              "          data: base64,\n",
              "        },\n",
              "      };\n",
              "\n",
              "      let percentDone = fileData.byteLength === 0 ?\n",
              "          100 :\n",
              "          Math.round((position / fileData.byteLength) * 100);\n",
              "      percent.textContent = `${percentDone}% done`;\n",
              "\n",
              "    } while (position < fileData.byteLength);\n",
              "  }\n",
              "\n",
              "  // All done.\n",
              "  yield {\n",
              "    response: {\n",
              "      action: 'complete',\n",
              "    }\n",
              "  };\n",
              "}\n",
              "\n",
              "scope.google = scope.google || {};\n",
              "scope.google.colab = scope.google.colab || {};\n",
              "scope.google.colab._files = {\n",
              "  _uploadFiles,\n",
              "  _uploadFilesContinue,\n",
              "};\n",
              "})(self);\n",
              "</script> "
            ]
          },
          "metadata": {}
        },
        {
          "output_type": "stream",
          "name": "stdout",
          "text": [
            "Saving report.txt to report (1).txt\n"
          ]
        },
        {
          "output_type": "execute_result",
          "data": {
            "text/plain": [
              "{'report.txt': b\"url(r'^page-tags-list/(?P<brand_id>[0-9a-z-]+)/$',page_tags.page_tags_list), # print statement\\nurl(r'^page-tag-mapping/(?P<pk>[0-9a-z-]+)/$',page_tags.page_tag_mapping_detail), # print statement and and one by one seralizing\\nurl(r'^export-stores/(?P<brand_id>[0-9a-z-]+)/$', stores.export_stores), # WRITING ROW ONE BY ONE AND WE CAN OPTIMIZE QUERY AS WELL\\nurl(r'^store/(?P<store_id>[0-9a-z-]+)/payment_gateway_credentials/$',  # duplicate url\\n url(r'^export-products/(?P<brand_id>[0-9a-z-]+)/$',products.export_products), # we can write csv in one go\\n url(r'^ivrs/$', ivrs.ivrs), # two time db call we as do this only one time\\n  url(r'^export-ivr-lists/$', ivrs.export_ivrs), # writing csv file line by line\\n   url(r'^fetch-candere-products/$', products.get_products_from_candere), # writing operation perform in get request\\n    url(r'^ivr/executive/$', store_ivr.get_executive_details), # writing operation perform in get request\\n     url(r'^ivr/executive/$', store_ivr.get_executive_details), # writing operation perform in get request\\n     url(r'^get/executive/details/$', store_ivr.get_executive_details_twilio),  #  writing operation perform in get request\\n      url(r'^get/mcubeexecutive/details/$', store_ivr.get_mcube_executive_details),  #  writing operation perform in get request\\n        url(r'^call/kookoo/details/$', store_ivr.call_kookoo_details),  #  writing operation perform in get request\\n         url(r'^save/kookoo/response/$', store_ivr.save_kookoo_response),  #  writing operation perform in get request any method are not defind\\n          url(r'^secondary-category-list/(?P<brand_id>[0-9a-z-]+)/(?P<category_id>[0-9a-z-]+)/$',category.secondary_category_list), # dobule db call we handle it only one call\\n           url(r'^reviews-list/$', reviews.reviews_list), # dobule db call we handle it only one call\\n            url(r'^articles-by-brand/(?P<brand_id>[0-9a-z-]+)/$',articles.articles_by_brand), # dobule db call we handle it only one call\\n             url(r'^feedurl/$', feedurls.fetch_datafrom_url), # writing data in get method\\n             url(r'^fetch-feedurl/$', feedurls.fetch_datafrom),  # writing data in get method\\n             url(r'^campaigns/gmb/(?P<campaign_id>[0-9a-z-]+)/$',campaigns.gmb_campaigns),  # writing data in get method\\n              url(r'^leads-by-brand/(?P<brand_id>[0-9a-z-]+)/$',form_leads.form_lead_by_brand), # dobule db call we handle it only one call\\nurl(r'^export-call-leads/$', leads.export_call_leads), # one by one row writing in csv file\\nurl(r'^fetch-invoice-details/$', invoice.get_invoice_from_kalyan), # writing operation but async call\\nurl(r'^invoices-modify/$', invoice.modify_source_for_invoices), # writing operation in get method\"}"
            ]
          },
          "metadata": {},
          "execution_count": 57
        }
      ]
    },
    {
      "cell_type": "code",
      "source": [
        "!rm -r re"
      ],
      "metadata": {
        "colab": {
          "base_uri": "https://localhost:8080/"
        },
        "id": "mD6Vm4atDDqj",
        "outputId": "582d52ec-d295-4db4-da6d-2be89b25e7a9"
      },
      "execution_count": 58,
      "outputs": [
        {
          "output_type": "stream",
          "name": "stdout",
          "text": [
            "'report (1).txt'   report.txt   \u001b[0m\u001b[01;34msample_data\u001b[0m/\n"
          ]
        }
      ]
    },
    {
      "cell_type": "code",
      "source": [
        "import pandas as pd\n"
      ],
      "metadata": {
        "id": "ctNijm-nDQmw"
      },
      "execution_count": 68,
      "outputs": []
    },
    {
      "cell_type": "code",
      "source": [
        "lines=[]"
      ],
      "metadata": {
        "id": "SwQUUFYGH2Ti"
      },
      "execution_count": 69,
      "outputs": []
    },
    {
      "cell_type": "code",
      "source": [
        "with open('report (1).txt',\"r\") as head:\n",
        "  s=head.readlines()\n",
        "  for line in s:\n",
        "   lines.append(line.strip(\" \").split(\"#\"))\n"
      ],
      "metadata": {
        "id": "g9MGKlgBDbtr"
      },
      "execution_count": 70,
      "outputs": []
    },
    {
      "cell_type": "code",
      "source": [
        "print(lines)"
      ],
      "metadata": {
        "colab": {
          "base_uri": "https://localhost:8080/"
        },
        "id": "d6oIz0wUFElj",
        "outputId": "34d5eff1-a91c-4026-ee41-d01c74ce337f"
      },
      "execution_count": 71,
      "outputs": [
        {
          "output_type": "stream",
          "name": "stdout",
          "text": [
            "[[\"url(r'^page-tags-list/(?P<brand_id>[0-9a-z-]+)/$',page_tags.page_tags_list), \", ' print statement\\n'], [\"url(r'^page-tag-mapping/(?P<pk>[0-9a-z-]+)/$',page_tags.page_tag_mapping_detail), \", ' print statement and and one by one seralizing\\n'], [\"url(r'^export-stores/(?P<brand_id>[0-9a-z-]+)/$', stores.export_stores), \", ' WRITING ROW ONE BY ONE AND WE CAN OPTIMIZE QUERY AS WELL\\n'], [\"url(r'^store/(?P<store_id>[0-9a-z-]+)/payment_gateway_credentials/$',  \", ' duplicate url\\n'], [\"url(r'^export-products/(?P<brand_id>[0-9a-z-]+)/$',products.export_products), \", ' we can write csv in one go\\n'], [\"url(r'^ivrs/$', ivrs.ivrs), \", ' two time db call we as do this only one time\\n'], [\"url(r'^export-ivr-lists/$', ivrs.export_ivrs), \", ' writing csv file line by line\\n'], [\"url(r'^fetch-candere-products/$', products.get_products_from_candere), \", ' writing operation perform in get request\\n'], [\"url(r'^ivr/executive/$', store_ivr.get_executive_details), \", ' writing operation perform in get request\\n'], [\"url(r'^ivr/executive/$', store_ivr.get_executive_details), \", ' writing operation perform in get request\\n'], [\"url(r'^get/executive/details/$', store_ivr.get_executive_details_twilio),  \", '  writing operation perform in get request\\n'], [\"url(r'^get/mcubeexecutive/details/$', store_ivr.get_mcube_executive_details),  \", '  writing operation perform in get request\\n'], [\"url(r'^call/kookoo/details/$', store_ivr.call_kookoo_details),  \", '  writing operation perform in get request\\n'], [\"url(r'^save/kookoo/response/$', store_ivr.save_kookoo_response),  \", '  writing operation perform in get request any method are not defind\\n'], [\"url(r'^secondary-category-list/(?P<brand_id>[0-9a-z-]+)/(?P<category_id>[0-9a-z-]+)/$',category.secondary_category_list), \", ' dobule db call we handle it only one call\\n'], [\"url(r'^reviews-list/$', reviews.reviews_list), \", ' dobule db call we handle it only one call\\n'], [\"url(r'^articles-by-brand/(?P<brand_id>[0-9a-z-]+)/$',articles.articles_by_brand), \", ' dobule db call we handle it only one call\\n'], [\"url(r'^feedurl/$', feedurls.fetch_datafrom_url), \", ' writing data in get method\\n'], [\"url(r'^fetch-feedurl/$', feedurls.fetch_datafrom),  \", ' writing data in get method\\n'], [\"url(r'^campaigns/gmb/(?P<campaign_id>[0-9a-z-]+)/$',campaigns.gmb_campaigns),  \", ' writing data in get method\\n'], [\"url(r'^leads-by-brand/(?P<brand_id>[0-9a-z-]+)/$',form_leads.form_lead_by_brand), \", ' dobule db call we handle it only one call\\n'], [\"url(r'^export-call-leads/$', leads.export_call_leads), \", ' one by one row writing in csv file\\n'], [\"url(r'^fetch-invoice-details/$', invoice.get_invoice_from_kalyan), \", ' writing operation but async call\\n'], [\"url(r'^invoices-modify/$', invoice.modify_source_for_invoices), \", ' writing operation in get method']]\n"
          ]
        }
      ]
    },
    {
      "cell_type": "code",
      "source": [
        "for i in lines:\n",
        "  print (\" #\".join(i))"
      ],
      "metadata": {
        "colab": {
          "base_uri": "https://localhost:8080/"
        },
        "id": "qswwquORItzl",
        "outputId": "9ad5e333-1b72-4b85-d590-f8322d7ccdf7"
      },
      "execution_count": 72,
      "outputs": [
        {
          "output_type": "stream",
          "name": "stdout",
          "text": [
            "url(r'^page-tags-list/(?P<brand_id>[0-9a-z-]+)/$',page_tags.page_tags_list),  # print statement\n",
            "\n",
            "url(r'^page-tag-mapping/(?P<pk>[0-9a-z-]+)/$',page_tags.page_tag_mapping_detail),  # print statement and and one by one seralizing\n",
            "\n",
            "url(r'^export-stores/(?P<brand_id>[0-9a-z-]+)/$', stores.export_stores),  # WRITING ROW ONE BY ONE AND WE CAN OPTIMIZE QUERY AS WELL\n",
            "\n",
            "url(r'^store/(?P<store_id>[0-9a-z-]+)/payment_gateway_credentials/$',   # duplicate url\n",
            "\n",
            "url(r'^export-products/(?P<brand_id>[0-9a-z-]+)/$',products.export_products),  # we can write csv in one go\n",
            "\n",
            "url(r'^ivrs/$', ivrs.ivrs),  # two time db call we as do this only one time\n",
            "\n",
            "url(r'^export-ivr-lists/$', ivrs.export_ivrs),  # writing csv file line by line\n",
            "\n",
            "url(r'^fetch-candere-products/$', products.get_products_from_candere),  # writing operation perform in get request\n",
            "\n",
            "url(r'^ivr/executive/$', store_ivr.get_executive_details),  # writing operation perform in get request\n",
            "\n",
            "url(r'^ivr/executive/$', store_ivr.get_executive_details),  # writing operation perform in get request\n",
            "\n",
            "url(r'^get/executive/details/$', store_ivr.get_executive_details_twilio),   #  writing operation perform in get request\n",
            "\n",
            "url(r'^get/mcubeexecutive/details/$', store_ivr.get_mcube_executive_details),   #  writing operation perform in get request\n",
            "\n",
            "url(r'^call/kookoo/details/$', store_ivr.call_kookoo_details),   #  writing operation perform in get request\n",
            "\n",
            "url(r'^save/kookoo/response/$', store_ivr.save_kookoo_response),   #  writing operation perform in get request any method are not defind\n",
            "\n",
            "url(r'^secondary-category-list/(?P<brand_id>[0-9a-z-]+)/(?P<category_id>[0-9a-z-]+)/$',category.secondary_category_list),  # dobule db call we handle it only one call\n",
            "\n",
            "url(r'^reviews-list/$', reviews.reviews_list),  # dobule db call we handle it only one call\n",
            "\n",
            "url(r'^articles-by-brand/(?P<brand_id>[0-9a-z-]+)/$',articles.articles_by_brand),  # dobule db call we handle it only one call\n",
            "\n",
            "url(r'^feedurl/$', feedurls.fetch_datafrom_url),  # writing data in get method\n",
            "\n",
            "url(r'^fetch-feedurl/$', feedurls.fetch_datafrom),   # writing data in get method\n",
            "\n",
            "url(r'^campaigns/gmb/(?P<campaign_id>[0-9a-z-]+)/$',campaigns.gmb_campaigns),   # writing data in get method\n",
            "\n",
            "url(r'^leads-by-brand/(?P<brand_id>[0-9a-z-]+)/$',form_leads.form_lead_by_brand),  # dobule db call we handle it only one call\n",
            "\n",
            "url(r'^export-call-leads/$', leads.export_call_leads),  # one by one row writing in csv file\n",
            "\n",
            "url(r'^fetch-invoice-details/$', invoice.get_invoice_from_kalyan),  # writing operation but async call\n",
            "\n",
            "url(r'^invoices-modify/$', invoice.modify_source_for_invoices),  # writing operation in get method\n"
          ]
        }
      ]
    },
    {
      "cell_type": "code",
      "source": [
        "import pandas as pd\n",
        "\n"
      ],
      "metadata": {
        "id": "xvKKINo-JyW4"
      },
      "execution_count": 73,
      "outputs": []
    },
    {
      "cell_type": "code",
      "source": [
        "len(lines[0])"
      ],
      "metadata": {
        "colab": {
          "base_uri": "https://localhost:8080/"
        },
        "id": "bVELFRm2N25X",
        "outputId": "83ac7e97-8e54-4b33-a2af-325f4cfeb1e0"
      },
      "execution_count": 74,
      "outputs": [
        {
          "output_type": "execute_result",
          "data": {
            "text/plain": [
              "2"
            ]
          },
          "metadata": {},
          "execution_count": 74
        }
      ]
    },
    {
      "cell_type": "code",
      "source": [
        "lines"
      ],
      "metadata": {
        "colab": {
          "base_uri": "https://localhost:8080/"
        },
        "id": "cVSbSvglPOSw",
        "outputId": "bc83e5d6-a9b9-47bb-9dd1-6aae819f0a8a"
      },
      "execution_count": 75,
      "outputs": [
        {
          "output_type": "execute_result",
          "data": {
            "text/plain": [
              "[[\"url(r'^page-tags-list/(?P<brand_id>[0-9a-z-]+)/$',page_tags.page_tags_list), \",\n",
              "  ' print statement\\n'],\n",
              " [\"url(r'^page-tag-mapping/(?P<pk>[0-9a-z-]+)/$',page_tags.page_tag_mapping_detail), \",\n",
              "  ' print statement and and one by one seralizing\\n'],\n",
              " [\"url(r'^export-stores/(?P<brand_id>[0-9a-z-]+)/$', stores.export_stores), \",\n",
              "  ' WRITING ROW ONE BY ONE AND WE CAN OPTIMIZE QUERY AS WELL\\n'],\n",
              " [\"url(r'^store/(?P<store_id>[0-9a-z-]+)/payment_gateway_credentials/$',  \",\n",
              "  ' duplicate url\\n'],\n",
              " [\"url(r'^export-products/(?P<brand_id>[0-9a-z-]+)/$',products.export_products), \",\n",
              "  ' we can write csv in one go\\n'],\n",
              " [\"url(r'^ivrs/$', ivrs.ivrs), \",\n",
              "  ' two time db call we as do this only one time\\n'],\n",
              " [\"url(r'^export-ivr-lists/$', ivrs.export_ivrs), \",\n",
              "  ' writing csv file line by line\\n'],\n",
              " [\"url(r'^fetch-candere-products/$', products.get_products_from_candere), \",\n",
              "  ' writing operation perform in get request\\n'],\n",
              " [\"url(r'^ivr/executive/$', store_ivr.get_executive_details), \",\n",
              "  ' writing operation perform in get request\\n'],\n",
              " [\"url(r'^ivr/executive/$', store_ivr.get_executive_details), \",\n",
              "  ' writing operation perform in get request\\n'],\n",
              " [\"url(r'^get/executive/details/$', store_ivr.get_executive_details_twilio),  \",\n",
              "  '  writing operation perform in get request\\n'],\n",
              " [\"url(r'^get/mcubeexecutive/details/$', store_ivr.get_mcube_executive_details),  \",\n",
              "  '  writing operation perform in get request\\n'],\n",
              " [\"url(r'^call/kookoo/details/$', store_ivr.call_kookoo_details),  \",\n",
              "  '  writing operation perform in get request\\n'],\n",
              " [\"url(r'^save/kookoo/response/$', store_ivr.save_kookoo_response),  \",\n",
              "  '  writing operation perform in get request any method are not defind\\n'],\n",
              " [\"url(r'^secondary-category-list/(?P<brand_id>[0-9a-z-]+)/(?P<category_id>[0-9a-z-]+)/$',category.secondary_category_list), \",\n",
              "  ' dobule db call we handle it only one call\\n'],\n",
              " [\"url(r'^reviews-list/$', reviews.reviews_list), \",\n",
              "  ' dobule db call we handle it only one call\\n'],\n",
              " [\"url(r'^articles-by-brand/(?P<brand_id>[0-9a-z-]+)/$',articles.articles_by_brand), \",\n",
              "  ' dobule db call we handle it only one call\\n'],\n",
              " [\"url(r'^feedurl/$', feedurls.fetch_datafrom_url), \",\n",
              "  ' writing data in get method\\n'],\n",
              " [\"url(r'^fetch-feedurl/$', feedurls.fetch_datafrom),  \",\n",
              "  ' writing data in get method\\n'],\n",
              " [\"url(r'^campaigns/gmb/(?P<campaign_id>[0-9a-z-]+)/$',campaigns.gmb_campaigns),  \",\n",
              "  ' writing data in get method\\n'],\n",
              " [\"url(r'^leads-by-brand/(?P<brand_id>[0-9a-z-]+)/$',form_leads.form_lead_by_brand), \",\n",
              "  ' dobule db call we handle it only one call\\n'],\n",
              " [\"url(r'^export-call-leads/$', leads.export_call_leads), \",\n",
              "  ' one by one row writing in csv file\\n'],\n",
              " [\"url(r'^fetch-invoice-details/$', invoice.get_invoice_from_kalyan), \",\n",
              "  ' writing operation but async call\\n'],\n",
              " [\"url(r'^invoices-modify/$', invoice.modify_source_for_invoices), \",\n",
              "  ' writing operation in get method']]"
            ]
          },
          "metadata": {},
          "execution_count": 75
        }
      ]
    },
    {
      "cell_type": "code",
      "source": [
        "df = pd.DataFrame(lines, columns =['path','comment']) \n",
        "print(df.head(1)) \n"
      ],
      "metadata": {
        "colab": {
          "base_uri": "https://localhost:8080/"
        },
        "id": "emEm1z9RLDEO",
        "outputId": "ca4b0a8b-0148-4fb7-c4f4-e1a9fc314f45"
      },
      "execution_count": 76,
      "outputs": [
        {
          "output_type": "stream",
          "name": "stdout",
          "text": [
            "                                                path             comment\n",
            "0  url(r'^page-tags-list/(?P<brand_id>[0-9a-z-]+)...   print statement\\n\n"
          ]
        }
      ]
    },
    {
      "cell_type": "code",
      "source": [
        "from tabulate import tabulate"
      ],
      "metadata": {
        "id": "PUMSOlO_NS9T"
      },
      "execution_count": 77,
      "outputs": []
    },
    {
      "cell_type": "code",
      "source": [
        "\n",
        "print(tabulate(df, headers=['sr No.','path','comment'], tablefmt='psql'))"
      ],
      "metadata": {
        "colab": {
          "base_uri": "https://localhost:8080/"
        },
        "id": "uK9dbxKEQpV3",
        "outputId": "bd9def3f-6d10-46af-adb1-c09e3af5e46b"
      },
      "execution_count": 80,
      "outputs": [
        {
          "output_type": "stream",
          "name": "stdout",
          "text": [
            "+----------+---------------------------------------------------------------------------------------------------------------------------+--------------------------------------------------------------------+\n",
            "|   sr No. | path                                                                                                                      | comment                                                            |\n",
            "|----------+---------------------------------------------------------------------------------------------------------------------------+--------------------------------------------------------------------|\n",
            "|        0 | url(r'^page-tags-list/(?P<brand_id>[0-9a-z-]+)/$',page_tags.page_tags_list),                                              | print statement                                                    |\n",
            "|        1 | url(r'^page-tag-mapping/(?P<pk>[0-9a-z-]+)/$',page_tags.page_tag_mapping_detail),                                         | print statement and and one by one seralizing                      |\n",
            "|        2 | url(r'^export-stores/(?P<brand_id>[0-9a-z-]+)/$', stores.export_stores),                                                  | WRITING ROW ONE BY ONE AND WE CAN OPTIMIZE QUERY AS WELL           |\n",
            "|        3 | url(r'^store/(?P<store_id>[0-9a-z-]+)/payment_gateway_credentials/$',                                                     | duplicate url                                                      |\n",
            "|        4 | url(r'^export-products/(?P<brand_id>[0-9a-z-]+)/$',products.export_products),                                             | we can write csv in one go                                         |\n",
            "|        5 | url(r'^ivrs/$', ivrs.ivrs),                                                                                               | two time db call we as do this only one time                       |\n",
            "|        6 | url(r'^export-ivr-lists/$', ivrs.export_ivrs),                                                                            | writing csv file line by line                                      |\n",
            "|        7 | url(r'^fetch-candere-products/$', products.get_products_from_candere),                                                    | writing operation perform in get request                           |\n",
            "|        8 | url(r'^ivr/executive/$', store_ivr.get_executive_details),                                                                | writing operation perform in get request                           |\n",
            "|        9 | url(r'^ivr/executive/$', store_ivr.get_executive_details),                                                                | writing operation perform in get request                           |\n",
            "|       10 | url(r'^get/executive/details/$', store_ivr.get_executive_details_twilio),                                                 | writing operation perform in get request                           |\n",
            "|       11 | url(r'^get/mcubeexecutive/details/$', store_ivr.get_mcube_executive_details),                                             | writing operation perform in get request                           |\n",
            "|       12 | url(r'^call/kookoo/details/$', store_ivr.call_kookoo_details),                                                            | writing operation perform in get request                           |\n",
            "|       13 | url(r'^save/kookoo/response/$', store_ivr.save_kookoo_response),                                                          | writing operation perform in get request any method are not defind |\n",
            "|       14 | url(r'^secondary-category-list/(?P<brand_id>[0-9a-z-]+)/(?P<category_id>[0-9a-z-]+)/$',category.secondary_category_list), | dobule db call we handle it only one call                          |\n",
            "|       15 | url(r'^reviews-list/$', reviews.reviews_list),                                                                            | dobule db call we handle it only one call                          |\n",
            "|       16 | url(r'^articles-by-brand/(?P<brand_id>[0-9a-z-]+)/$',articles.articles_by_brand),                                         | dobule db call we handle it only one call                          |\n",
            "|       17 | url(r'^feedurl/$', feedurls.fetch_datafrom_url),                                                                          | writing data in get method                                         |\n",
            "|       18 | url(r'^fetch-feedurl/$', feedurls.fetch_datafrom),                                                                        | writing data in get method                                         |\n",
            "|       19 | url(r'^campaigns/gmb/(?P<campaign_id>[0-9a-z-]+)/$',campaigns.gmb_campaigns),                                             | writing data in get method                                         |\n",
            "|       20 | url(r'^leads-by-brand/(?P<brand_id>[0-9a-z-]+)/$',form_leads.form_lead_by_brand),                                         | dobule db call we handle it only one call                          |\n",
            "|       21 | url(r'^export-call-leads/$', leads.export_call_leads),                                                                    | one by one row writing in csv file                                 |\n",
            "|       22 | url(r'^fetch-invoice-details/$', invoice.get_invoice_from_kalyan),                                                        | writing operation but async call                                   |\n",
            "|       23 | url(r'^invoices-modify/$', invoice.modify_source_for_invoices),                                                           | writing operation in get method                                    |\n",
            "+----------+---------------------------------------------------------------------------------------------------------------------------+--------------------------------------------------------------------+\n"
          ]
        }
      ]
    },
    {
      "cell_type": "code",
      "source": [
        "with open('report_durgesh.txt','w+') as f:\n",
        "  f.write(tabulate(df, headers=['sr No.','path','comment'], tablefmt='psql'))"
      ],
      "metadata": {
        "id": "gw81jv0yQ2CX"
      },
      "execution_count": 81,
      "outputs": []
    },
    {
      "cell_type": "code",
      "source": [
        "files.download('report_durgesh.txt')"
      ],
      "metadata": {
        "colab": {
          "base_uri": "https://localhost:8080/",
          "height": 17
        },
        "id": "TYhN1qsJUaa2",
        "outputId": "513d1afb-d4fc-4fda-db44-93999cd87270"
      },
      "execution_count": 82,
      "outputs": [
        {
          "output_type": "display_data",
          "data": {
            "text/plain": [
              "<IPython.core.display.Javascript object>"
            ],
            "application/javascript": [
              "\n",
              "    async function download(id, filename, size) {\n",
              "      if (!google.colab.kernel.accessAllowed) {\n",
              "        return;\n",
              "      }\n",
              "      const div = document.createElement('div');\n",
              "      const label = document.createElement('label');\n",
              "      label.textContent = `Downloading \"${filename}\": `;\n",
              "      div.appendChild(label);\n",
              "      const progress = document.createElement('progress');\n",
              "      progress.max = size;\n",
              "      div.appendChild(progress);\n",
              "      document.body.appendChild(div);\n",
              "\n",
              "      const buffers = [];\n",
              "      let downloaded = 0;\n",
              "\n",
              "      const channel = await google.colab.kernel.comms.open(id);\n",
              "      // Send a message to notify the kernel that we're ready.\n",
              "      channel.send({})\n",
              "\n",
              "      for await (const message of channel.messages) {\n",
              "        // Send a message to notify the kernel that we're ready.\n",
              "        channel.send({})\n",
              "        if (message.buffers) {\n",
              "          for (const buffer of message.buffers) {\n",
              "            buffers.push(buffer);\n",
              "            downloaded += buffer.byteLength;\n",
              "            progress.value = downloaded;\n",
              "          }\n",
              "        }\n",
              "      }\n",
              "      const blob = new Blob(buffers, {type: 'application/binary'});\n",
              "      const a = document.createElement('a');\n",
              "      a.href = window.URL.createObjectURL(blob);\n",
              "      a.download = filename;\n",
              "      div.appendChild(a);\n",
              "      a.click();\n",
              "      div.remove();\n",
              "    }\n",
              "  "
            ]
          },
          "metadata": {}
        },
        {
          "output_type": "display_data",
          "data": {
            "text/plain": [
              "<IPython.core.display.Javascript object>"
            ],
            "application/javascript": [
              "download(\"download_dd809726-56e8-4b67-8453-5f791f169162\", \"report_durgesh.txt\", 5767)"
            ]
          },
          "metadata": {}
        }
      ]
    },
    {
      "cell_type": "code",
      "source": [],
      "metadata": {
        "id": "PAksPm9OUiuv"
      },
      "execution_count": null,
      "outputs": []
    }
  ]
}